{
 "cells": [
  {
   "cell_type": "code",
   "execution_count": 21,
   "metadata": {},
   "outputs": [],
   "source": [
    "import random\n",
    "import itertools\n",
    "from multiset import Multiset\n",
    "from scipy.stats import pearsonr\n",
    "import networkx as nx\n",
    "import matplotlib.pyplot as plt\n",
    "%matplotlib inline\n",
    "import copy\n",
    "import time"
   ]
  },
  {
   "cell_type": "code",
   "execution_count": 22,
   "metadata": {},
   "outputs": [],
   "source": [
    "class Enzyme: \n",
    "    def __init__(self,inp,output):\n",
    "        self._substrate_def = Multiset(inp)\n",
    "        self._product_def = Multiset(output)\n",
    "        self._substrate=Multiset()\n",
    "    \n",
    "    def collectall(self, substrate):\n",
    "        missing = self._substrate_def - self._substrate\n",
    "        missing &= substrate\n",
    "        self._substrate += missing\n",
    "        substrate.difference_update(missing)\n",
    "\n",
    "    def isready(self):\n",
    "        return self._substrate == self._substrate_def\n",
    "    \n",
    "    def react(self, substrate):\n",
    "        if self.isready():\n",
    "            self._substrate.clear()\n",
    "            substrate.update(self._product_def)\n",
    "            return True\n",
    "        else:\n",
    "            return False\n",
    "        \n",
    "    def __str__(self):\n",
    "        return \"{'inputs':\" + str(list(self._substrate_def)) + \", 'outputs':\" + str(list(self._product_def)) + \"}\"\n",
    "    def __repr__(self):\n",
    "        return (str(self))  \n",
    "    def getsubstratedef(self):\n",
    "        return list(self._substrate_def)\n",
    "    def getproductdef(self):\n",
    "        return list(self._product_def)\n",
    "    \n",
    "\n",
    "class Species:\n",
    "    def __init__(self,enz,substrate_generator, substrate_size):\n",
    "        self._enzymes = copy.deepcopy(enz)\n",
    "        self._substrate_generator = substrate_generator\n",
    "        self._substrate_size = substrate_size\n",
    "        self._substrate = Multiset(self._substrate_generator(self._substrate_size))\n",
    "        self._age=0\n",
    "        self._reactions=0\n",
    "    def develop(self,duration):\n",
    "        for age in range(duration):\n",
    "            e = random.choice(self._enzymes)\n",
    "            e.collectall(self._substrate)\n",
    "            if e.react(self._substrate):\n",
    "                self._reactions+=1\n",
    "            self._age+=1\n",
    "        return self._reactions\n",
    "    def measure_metabolite_level(self, m):\n",
    "        return self._substrate[m]\n",
    "    def getsubstrate(self):\n",
    "        return self._substrate\n",
    "    def getenzymes(self):\n",
    "        return self._ezymes\n",
    "    def clone(self):\n",
    "        return copy.deepcopy(self)\n",
    "    def spawn(self):\n",
    "        return Species(self._enzymes,self._substrate_generator,self._substrate_size)\n",
    "    \n",
    "        \n",
    "def make_random_sequence_generator(r):\n",
    "    def generator(count):\n",
    "        for i in range(count):\n",
    "            yield random.choice(r)\n",
    "    return generator\n",
    "\n",
    "def z(): \n",
    "    return 0\n"
   ]
  },
  {
   "cell_type": "code",
   "execution_count": 23,
   "metadata": {},
   "outputs": [],
   "source": [
    "## simulation settings\n",
    "\n",
    "mtype_count = 200\n",
    "enzyme_size = 5\n",
    "enzyme_count = 2000 #250\n",
    "enzymes_per_species = 150\n",
    "substrate_size = 10000\n",
    "number_of_samples = 1\n",
    "number_of_species = 100\n",
    "max_age = 10000\n",
    "\n",
    "m_types = range(mtype_count)\n",
    "m_generator = make_random_sequence_generator(m_types)\n",
    "enzymes = [Enzyme(Multiset(m_generator(enzyme_size)),Multiset(m_generator(enzyme_size))) for i in range(enzyme_count)]\n",
    "e_generator = make_random_sequence_generator(enzymes)\n",
    "\n",
    "sim_id = time.time()"
   ]
  },
  {
   "cell_type": "code",
   "execution_count": 24,
   "metadata": {},
   "outputs": [
    {
     "name": "stdout",
     "output_type": "stream",
     "text": [
      "('average number of reactions', 2069)\n"
     ]
    }
   ],
   "source": [
    "#######################################################################\n",
    "## dry run\n",
    "\n",
    "## simulation setup\n",
    "samples = []\n",
    "for i in range(number_of_species):    \n",
    "    s = Species(random.sample(enzymes,enzymes_per_species) ,m_generator,substrate_size)\n",
    "    samples.extend([s.spawn() for i in range(number_of_samples)])\n",
    "assert(len(samples)==number_of_species*number_of_samples)\n",
    "\n",
    "\n",
    "## simulation execution\n",
    "reactions = [s.develop(random.randint(0,max_age)) for s in samples]\n",
    "print(\"average number of reactions\", sum(reactions)/len(reactions))\n",
    "max_age=int(sum(reactions)/len(reactions))\n"
   ]
  },
  {
   "cell_type": "code",
   "execution_count": 25,
   "metadata": {},
   "outputs": [
    {
     "name": "stdout",
     "output_type": "stream",
     "text": [
      "('average number of reactions', 903)\n",
      "('strong correlations ', 204)\n",
      "('positive correlations ', 202)\n",
      "('negative correlations ', 2)\n",
      "200\n",
      "202\n",
      "201\n",
      "1\n",
      "('gcc ', 2)\n",
      "('used metabolites ', 200)\n",
      "('intersection ', 2)\n"
     ]
    },
    {
     "data": {
      "text/plain": [
       "<matplotlib.collections.LineCollection at 0x10999ef10>"
      ]
     },
     "execution_count": 25,
     "metadata": {},
     "output_type": "execute_result"
    },
    {
     "data": {
      "image/png": "[encoded data removed]",
      "text/plain": [
       "<matplotlib.figure.Figure at 0x109af4490>"
      ]
     },
     "metadata": {},
     "output_type": "display_data"
    }
   ],
   "source": [
    "## main simulation\n",
    "\n",
    "## simulation setup\n",
    "samples = []\n",
    "for i in range(number_of_species):    \n",
    "    s = Species(random.sample(enzymes,enzymes_per_species) ,m_generator,substrate_size)\n",
    "    samples.extend([s.spawn() for i in range(number_of_samples)])\n",
    "assert(len(samples)==number_of_species*number_of_samples)\n",
    "\n",
    "\n",
    "## simulation execution\n",
    "reactions = [s.develop(random.randint(0,max_age)) for s in samples]\n",
    "print(\"average number of reactions\", sum(reactions)/len(reactions))\n",
    "\n",
    "## analysis of the results\n",
    "corr = itertools.product(m_types,m_types)\n",
    "corr = [((m1,m2),pearsonr([s.measure_metabolite_level(m1) for s in samples],[s.measure_metabolite_level(m2) for s in samples])) for m1,m2 in corr]\n",
    "strong = list(filter(lambda x: x[1][1]<0.000001, corr))\n",
    "print(\"strong correlations \",len(strong))\n",
    "positive = list(filter(lambda x: x[1][0]>0, strong))\n",
    "print(\"positive correlations \",len(positive))\n",
    "negative = list(filter(lambda x: x[1][0]<0, strong))\n",
    "print(\"negative correlations \",len(negative))\n",
    "Gp = nx.Graph([e[0] for e in positive])\n",
    "Gn = nx.Graph([e[0] for e in negative])\n",
    "G = nx.Graph()\n",
    "G.add_edges_from([e[0] for e in positive], weight=1)\n",
    "G.add_edges_from([e[0] for e in negative], weight=-1)\n",
    "\n",
    "print(G.number_of_nodes())\n",
    "print(G.size())\n",
    "print(Gp.size())\n",
    "print(Gn.size())\n",
    "cc=sorted(nx.connected_components(G), key = len, reverse=True)\n",
    "gcc = cc[0]\n",
    "activem = set([])\n",
    "for e in enzymes:\n",
    "    activem.update(set(e.getproductdef()))\n",
    "    activem.update(set(e.getsubstratedef()))\n",
    "print(\"gcc \",len(gcc))\n",
    "print(\"used metabolites \", len(activem))\n",
    "print(\"intersection \", len(activem.intersection(gcc)))\n",
    "\n",
    "pos=nx.spring_layout(Gp)\n",
    "nx.draw(G,pos,\n",
    "            with_labels=False,\n",
    "            node_size=10,\n",
    "            alpha=0.2\n",
    "            )\n",
    "\n",
    "nx.draw_networkx_edges(Gn,pos,\n",
    "                           with_labels=False,\n",
    "                           edge_color='r',\n",
    "                           width=3.0,\n",
    "                           alpha=0.1\n",
    "                        )\n",
    "nx.draw_networkx_edges(Gp,pos,\n",
    "                           with_labels=False,\n",
    "                           edge_color='b',\n",
    "                           width=3.0,\n",
    "                           alpha=0.2\n",
    "                        )\n"
   ]
  },
  {
   "cell_type": "code",
   "execution_count": 26,
   "metadata": {},
   "outputs": [
    {
     "name": "stdout",
     "output_type": "stream",
     "text": [
      "1514456991.42\n"
     ]
    },
    {
     "data": {
      "image/png": "[encoded data removed]",
      "text/plain": [
       "<matplotlib.figure.Figure at 0x107491c90>"
      ]
     },
     "metadata": {},
     "output_type": "display_data"
    }
   ],
   "source": [
    "print sim_id\n",
    "nx.write_edgelist(G,\"out/%s_G.csv\"%(sim_id), comments=\"#\", delimiter=\",\", data=[\"weight\"])\n",
    "\n",
    "random.shuffle(enzymes)\n",
    "\n",
    "train = enzymes[:enzyme_count // 2]\n",
    "train_f = open(\"out/%s_train.txt\"%(sim_id),\"w\")\n",
    "train_f.write(str(train))\n",
    "\n",
    "test = enzymes[enzyme_count // 2:] + [Enzyme(Multiset(m_generator(enzyme_size)),Multiset(m_generator(enzyme_size))) for i in range(enzyme_count//2)]\n",
    "# random.shuffle(test)\n",
    "test_f = open(\"out/%s_test.txt\"%(sim_id),\"w\")\n",
    "test_f.write(str(test))\n",
    "\n",
    "enzymes = set(enzymes)\n",
    "ground_truth = [e in enzymes for e in test]\n",
    "ground_truth_f = open(\"ground_truth/%s_ground_truth.txt\"%(sim_id),\"w\")\n",
    "ground_truth_f.write(str(ground_truth))\n",
    "\n",
    "plt.axis('off')\n",
    "plt.savefig(\"out/%s_vis.png\"%(sim_id), bbox_inches=\"tight\")\n",
    "plt.show() "
   ]
  },
  {
   "cell_type": "code",
   "execution_count": null,
   "metadata": {},
   "outputs": [],
   "source": []
  },
  {
   "cell_type": "code",
   "execution_count": null,
   "metadata": {},
   "outputs": [],
   "source": []
  }
 ],
 "metadata": {
  "kernelspec": {
   "display_name": "Python 2",
   "language": "python",
   "name": "python2"
  },
  "language_info": {
   "codemirror_mode": {
    "name": "ipython",
    "version": 2
   },
   "file_extension": ".py",
   "mimetype": "text/x-python",
   "name": "python",
   "nbconvert_exporter": "python",
   "pygments_lexer": "ipython2",
   "version": "2.7.13"
  }
 },
 "nbformat": 4,
 "nbformat_minor": 2
}
