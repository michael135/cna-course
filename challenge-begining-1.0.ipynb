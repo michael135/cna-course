{
 "cells": [
  {
   "cell_type": "code",
   "execution_count": 44,
   "metadata": {},
   "outputs": [],
   "source": [
    "import re\n",
    "import ast\n",
    "from collections import defaultdict\n",
    "from itertools import combinations, product\n",
    "import networkx as nx\n",
    "import numpy as np\n",
    "from matplotlib import pyplot as plt\n",
    "%matplotlib inline\n",
    "plt.matplotlib.rcParams['figure.figsize'] = (12, 6)"
   ]
  },
  {
   "cell_type": "code",
   "execution_count": 11,
   "metadata": {},
   "outputs": [
    {
     "name": "stdout",
     "output_type": "stream",
     "text": [
      "/Users/mdymshits/cna-course/out\n",
      "1514456330.38_G.csv\r\n",
      "1514456330.38_test.txt\r\n",
      "1514456330.38_train.txt\r\n",
      "1514456330.38_vis.png\r\n"
     ]
    }
   ],
   "source": [
    "% cd /Users/mdymshits/cna-course/out/\n",
    "%ls -1 | grep 38"
   ]
  },
  {
   "cell_type": "markdown",
   "metadata": {},
   "source": [
    "## Functions"
   ]
  },
  {
   "cell_type": "code",
   "execution_count": 12,
   "metadata": {},
   "outputs": [],
   "source": [
    "fname = '1514456330.38_train.txt'"
   ]
  },
  {
   "cell_type": "code",
   "execution_count": 49,
   "metadata": {},
   "outputs": [],
   "source": [
    "def read_outputs(fname):\n",
    "    \"\"\"read inputs and outputs from file into 2 lists\"\"\"\n",
    "    vectors = []\n",
    "    with open(fname) as f:\n",
    "        pattern = \"\\[\\d+\\, \\d+\\, \\d+\\, \\d+\\, \\d+\\]\"\n",
    "        strings = re.findall(pattern, f.read())\n",
    "    for v in strings:\n",
    "        vectors.append(ast.literal_eval(v))\n",
    "    inputs = vectors[::2]\n",
    "    outputs = vectors[1::2]\n",
    "    return inputs, outputs\n",
    "\n",
    "def score(nodes, graph_weights):\n",
    "    \"\"\"returns list of scores per lists of outputs\"\"\"\n",
    "    total_cor = []\n",
    "    for out in nodes:\n",
    "        val_per_output = 0\n",
    "        for n1, n2 in combinations(out, r=2):\n",
    "            corr = graph_weights['_'.join([str(n1), str(n2)])]\n",
    "            val_per_output += corr\n",
    "        total_cor.append(val_per_output)\n",
    "    return total_cor\n",
    "\n",
    "\n",
    "def score_io(inputs, outputs, graph_weights):\n",
    "    \"\"\"returns list of scores per lists of outputs\"\"\"\n",
    "    total_cor = []\n",
    "    for i,o in zip(inputs, outputs):\n",
    "        print len(i), len(o)\n",
    "        val_per_output = 0\n",
    "        for n1, n2 in product(i,o):\n",
    "            corr = graph_weights['_'.join([str(n1), str(n2)])]\n",
    "            val_per_output += corr\n",
    "#             print n1, n2, corr, val_per_output\n",
    "#             print total_cor\n",
    "        total_cor.append(-val_per_output)\n",
    "    return total_cor\n"
   ]
  },
  {
   "cell_type": "code",
   "execution_count": 78,
   "metadata": {},
   "outputs": [
    {
     "name": "stdout",
     "output_type": "stream",
     "text": [
      "     312 1514456330.38_G.csv\r\n"
     ]
    }
   ],
   "source": [
    "!wc -l 1514456330.38_G.csv"
   ]
  },
  {
   "cell_type": "code",
   "execution_count": 79,
   "metadata": {},
   "outputs": [],
   "source": [
    "G=nx.read_edgelist(\"1514456330.38_G.csv\", delimiter=',', nodetype=int, \\\n",
    "                   data=(('weight',float),), create_using=nx.Graph())"
   ]
  },
  {
   "cell_type": "code",
   "execution_count": 26,
   "metadata": {},
   "outputs": [],
   "source": [
    "graph_weights = defaultdict(int)\n",
    "for n1,n2,c in G.edges(data = True):\n",
    "#     print n1, n2, c\n",
    "#     print str(n1), str(n2)\n",
    "#     if c['weight'] == 1:\n",
    "    graph_weights['_'.join([str(n1), str(n2)])] = c['weight']\n",
    "    graph_weights['_'.join([str(n2), str(n1)])] = c['weight']"
   ]
  },
  {
   "cell_type": "code",
   "execution_count": 38,
   "metadata": {},
   "outputs": [
    {
     "data": {
      "text/plain": [
       "float"
      ]
     },
     "execution_count": 38,
     "metadata": {},
     "output_type": "execute_result"
    }
   ],
   "source": [
    "type(graph_weights['133_168'])"
   ]
  },
  {
   "cell_type": "code",
   "execution_count": 30,
   "metadata": {},
   "outputs": [],
   "source": [
    "fname_train = '1514456330.38_train.txt'  \n",
    "fname_test = '1514456330.38_test.txt'\n",
    "\n",
    "inputs_train, outputs_train = read_outputs(fname_train)\n",
    "inputs_test, outputs_test = read_outputs(fname_test)\n"
   ]
  },
  {
   "cell_type": "code",
   "execution_count": null,
   "metadata": {},
   "outputs": [],
   "source": [
    "score_train_i = score(inputs_train, graph_weights)\n",
    "score_train_o = score(outputs_train, graph_weights)\n",
    "score_train_io = score_io(inputs_train, outputs_train, graph_weights)\n",
    "\n",
    "score_test_i = score(inputs_test, graph_weights)\n",
    "score_test_o = score(outputs_test, graph_weights)\n",
    "score_test_io = score_io(inputs_test, outputs_test, graph_weights)"
   ]
  },
  {
   "cell_type": "code",
   "execution_count": null,
   "metadata": {},
   "outputs": [],
   "source": [
    "len(nodes_train), len(nodes_test)"
   ]
  },
  {
   "cell_type": "code",
   "execution_count": 100,
   "metadata": {},
   "outputs": [
    {
     "data": {
      "image/png": "[encoded data removed]",
      "text/plain": [
       "<matplotlib.figure.Figure at 0x10f4f5090>"
      ]
     },
     "metadata": {},
     "output_type": "display_data"
    },
    {
     "data": {
      "image/png": "[encoded data removed]",
      "text/plain": [
       "<matplotlib.figure.Figure at 0x10fb8c050>"
      ]
     },
     "metadata": {},
     "output_type": "display_data"
    }
   ],
   "source": [
    "bins = np.linspace(-10,20,40)\n",
    "\n",
    "\n",
    "plt.hist(score_train_io, bins=bins, alpha=.5, color='b', log=True);\n",
    "plt.hist(score_train_i, bins=bins, alpha=.7, color='g');\n",
    "plt.hist(score_train_o, bins=bins, alpha=.5, color='r');\n",
    "\n",
    "train_all = np.array(score_train_io) + \\\n",
    "            np.array(score_train_i) + np.array(score_train_o)\n",
    "plt.hist(train_all, bins=bins, alpha=.5, color='m');\n",
    "\n",
    "plt.figure()\n",
    "\n",
    "test_all = np.array(score_test_io) + \\\n",
    "            np.array(score_test_i) + np.array(score_test_o)\n",
    "    \n",
    "plt.hist(test_all, bins=bins, alpha=.5, color='r');\n",
    "\n",
    "plt.hist(score_test_i, bins=bins, alpha=.7, color='g');\n",
    "plt.hist(score_test_o, bins=bins, alpha=.5, color='r');\n",
    "plt.hist(score_test_io, bins=bins, alpha=.5, color='m');"
   ]
  },
  {
   "cell_type": "markdown",
   "metadata": {},
   "source": [
    "### draft - not relevant\n"
   ]
  },
  {
   "cell_type": "code",
   "execution_count": 87,
   "metadata": {},
   "outputs": [],
   "source": [
    "gg = np.loadtxt(\"1514456330.38_G.csv\", delimiter=',', dtype=int).tolist()"
   ]
  },
  {
   "cell_type": "code",
   "execution_count": 89,
   "metadata": {},
   "outputs": [],
   "source": [
    "T = nx.Graph()\n",
    "\n",
    "for line in gg:\n",
    "    \n",
    "    T.add_edge(line[0], line[1], weight=line[2])"
   ]
  },
  {
   "cell_type": "code",
   "execution_count": 94,
   "metadata": {},
   "outputs": [
    {
     "data": {
      "text/plain": [
       "312"
      ]
     },
     "execution_count": 94,
     "metadata": {},
     "output_type": "execute_result"
    }
   ],
   "source": [
    "len(T.edges(data=True))"
   ]
  },
  {
   "cell_type": "code",
   "execution_count": 96,
   "metadata": {},
   "outputs": [
    {
     "data": {
      "text/plain": [
       "312"
      ]
     },
     "execution_count": 96,
     "metadata": {},
     "output_type": "execute_result"
    }
   ],
   "source": [
    "len(G.edges(data=True))"
   ]
  },
  {
   "cell_type": "code",
   "execution_count": null,
   "metadata": {},
   "outputs": [],
   "source": []
  }
 ],
 "metadata": {
  "kernelspec": {
   "display_name": "Python 2",
   "language": "python",
   "name": "python2"
  },
  "language_info": {
   "codemirror_mode": {
    "name": "ipython",
    "version": 2
   },
   "file_extension": ".py",
   "mimetype": "text/x-python",
   "name": "python",
   "nbconvert_exporter": "python",
   "pygments_lexer": "ipython2",
   "version": "2.7.13"
  }
 },
 "nbformat": 4,
 "nbformat_minor": 2
}
